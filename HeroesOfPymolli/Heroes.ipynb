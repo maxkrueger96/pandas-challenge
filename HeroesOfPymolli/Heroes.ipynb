{
 "cells": [
  {
   "cell_type": "code",
   "execution_count": 394,
   "metadata": {},
   "outputs": [],
   "source": [
    "import pandas as pd\n",
    "import os\n",
    "import csv\n",
    "\n",
    "#hopefully I've joined the paths correctly\n",
    "dir = os.path.abspath('/Users/maxkrueger/Documents/nu-chi-data-pt-06-2021-u-c/04-Pandas/Homework/due_July21/Instructions/HeroesOfPymoli')\n",
    "datapath = os.path.join(dir,'Resources/purchase_data.csv')\n",
    "\n",
    "reader = pd.read_csv(datapath)"
   ]
  },
  {
   "cell_type": "code",
   "execution_count": 395,
   "metadata": {},
   "outputs": [
    {
     "data": {
      "text/html": [
       "<style  type=\"text/css\" >\n",
       "</style><table id=\"T_4b1b8_\" ><thead>    <tr>        <th class=\"blank level0\" ></th>        <th class=\"col_heading level0 col0\" >Number of Players</th>    </tr></thead><tbody>\n",
       "                <tr>\n",
       "                        <th id=\"T_4b1b8_level0_row0\" class=\"row_heading level0 row0\" >=</th>\n",
       "                        <td id=\"T_4b1b8_row0_col0\" class=\"data row0 col0\" >576</td>\n",
       "            </tr>\n",
       "    </tbody></table>"
      ],
      "text/plain": [
       "<pandas.io.formats.style.Styler at 0x7f9e016a8c10>"
      ]
     },
     "execution_count": 395,
     "metadata": {},
     "output_type": "execute_result"
    }
   ],
   "source": [
    "#remove duplicates to get count\n",
    "duplicates_dropped = reader.drop_duplicates(subset=['SN'])\n",
    "play_num = duplicates_dropped['SN'].size\n",
    "player_df = pd.DataFrame({'Number of Players': play_num}, index=['='])\n",
    "player_df.style"
   ]
  },
  {
   "cell_type": "code",
   "execution_count": 396,
   "metadata": {},
   "outputs": [
    {
     "data": {
      "text/html": [
       "<style  type=\"text/css\" >\n",
       "</style><table id=\"T_1b5f9_\" ><thead>    <tr>        <th class=\"blank level0\" ></th>        <th class=\"col_heading level0 col0\" >Number of Items</th>        <th class=\"col_heading level0 col1\" >Average Price of Items</th>        <th class=\"col_heading level0 col2\" >Average Amount Spent</th>        <th class=\"col_heading level0 col3\" >Number of Purchases</th>        <th class=\"col_heading level0 col4\" >Total Revenue</th>    </tr></thead><tbody>\n",
       "                <tr>\n",
       "                        <th id=\"T_1b5f9_level0_row0\" class=\"row_heading level0 row0\" >0</th>\n",
       "                        <td id=\"T_1b5f9_row0_col0\" class=\"data row0 col0\" >179</td>\n",
       "                        <td id=\"T_1b5f9_row0_col1\" class=\"data row0 col1\" >$3.04</td>\n",
       "                        <td id=\"T_1b5f9_row0_col2\" class=\"data row0 col2\" >$3.05</td>\n",
       "                        <td id=\"T_1b5f9_row0_col3\" class=\"data row0 col3\" >780</td>\n",
       "                        <td id=\"T_1b5f9_row0_col4\" class=\"data row0 col4\" >$2,379.77</td>\n",
       "            </tr>\n",
       "    </tbody></table>"
      ],
      "text/plain": [
       "<pandas.io.formats.style.Styler at 0x7f9e03f81040>"
      ]
     },
     "execution_count": 396,
     "metadata": {},
     "output_type": "execute_result"
    }
   ],
   "source": [
    "unique_items = reader.drop_duplicates(subset=['Item ID'])\n",
    "item_num = unique_items['Item ID'].size\n",
    "avg_price = unique_items['Price'].mean()\n",
    "avg_spent = reader['Price'].mean()\n",
    "purch_count = reader['Price'].size\n",
    "total_spent = reader['Price'].sum()\n",
    "summary_df = pd.DataFrame({'Number of Items': item_num, 'Average Price of Items': '${:0,.2f}'.format(avg_price), 'Average Amount Spent': '${:0,.2f}'.format(avg_spent),'Number of Purchases': purch_count, 'Total Revenue': '${:0,.2f}'.format(total_spent)},index=[0])\n",
    "summary_df.style\n"
   ]
  },
  {
   "cell_type": "code",
   "execution_count": 397,
   "metadata": {},
   "outputs": [
    {
     "data": {
      "text/html": [
       "<style  type=\"text/css\" >\n",
       "</style><table id=\"T_382b3_\" ><thead>    <tr>        <th class=\"blank level0\" ></th>        <th class=\"col_heading level0 col0\" >Total Counts</th>        <th class=\"col_heading level0 col1\" >Percentage of Players</th>    </tr>    <tr>        <th class=\"index_name level0\" >Gender</th>        <th class=\"blank\" ></th>        <th class=\"blank\" ></th>    </tr></thead><tbody>\n",
       "                <tr>\n",
       "                        <th id=\"T_382b3_level0_row0\" class=\"row_heading level0 row0\" >Male</th>\n",
       "                        <td id=\"T_382b3_row0_col0\" class=\"data row0 col0\" >484</td>\n",
       "                        <td id=\"T_382b3_row0_col1\" class=\"data row0 col1\" >84.03%</td>\n",
       "            </tr>\n",
       "            <tr>\n",
       "                        <th id=\"T_382b3_level0_row1\" class=\"row_heading level0 row1\" >Female</th>\n",
       "                        <td id=\"T_382b3_row1_col0\" class=\"data row1 col0\" >81</td>\n",
       "                        <td id=\"T_382b3_row1_col1\" class=\"data row1 col1\" >14.06%</td>\n",
       "            </tr>\n",
       "            <tr>\n",
       "                        <th id=\"T_382b3_level0_row2\" class=\"row_heading level0 row2\" >Other/Non-Disclosed</th>\n",
       "                        <td id=\"T_382b3_row2_col0\" class=\"data row2 col0\" >11</td>\n",
       "                        <td id=\"T_382b3_row2_col1\" class=\"data row2 col1\" >1.91%</td>\n",
       "            </tr>\n",
       "    </tbody></table>"
      ],
      "text/plain": [
       "<pandas.io.formats.style.Styler at 0x7f9e03f814f0>"
      ]
     },
     "execution_count": 397,
     "metadata": {},
     "output_type": "execute_result"
    }
   ],
   "source": [
    "gender_count = duplicates_dropped['Gender'].value_counts()\n",
    "male_count = gender_count['Male']\n",
    "male_perc = male_count / play_num\n",
    "fem_count = gender_count['Female']\n",
    "fem_perc = fem_count / play_num\n",
    "other_count = gender_count['Other / Non-Disclosed']\n",
    "other_perc = other_count / play_num\n",
    "d = {'Total Counts': pd.Series([male_count,fem_count,other_count], index = ['Male','Female','Other/Non-Disclosed']),\n",
    "'Percentage of Players': pd.Series([\"{:.2%}\".format(male_perc),\"{:.2%}\".format(fem_perc),\"{:.2%}\".format(other_perc)],index = ['Male','Female','Other/Non-Disclosed'])\n",
    "}\n",
    "gender_summary = pd.DataFrame(d)\n",
    "gender_summary.index.name = \"Gender\"\n",
    "gender_summary.style\n"
   ]
  },
  {
   "cell_type": "code",
   "execution_count": 398,
   "metadata": {},
   "outputs": [
    {
     "data": {
      "text/html": [
       "<style  type=\"text/css\" >\n",
       "</style><table id=\"T_e4a73_\" ><thead>    <tr>        <th class=\"blank level0\" ></th>        <th class=\"col_heading level0 col0\" >Purchase Count</th>        <th class=\"col_heading level0 col1\" >Average Purchase Price</th>        <th class=\"col_heading level0 col2\" >Total Purchase Value</th>        <th class=\"col_heading level0 col3\" >Average Total Purchase per Person</th>    </tr>    <tr>        <th class=\"index_name level0\" >Gender</th>        <th class=\"blank\" ></th>        <th class=\"blank\" ></th>        <th class=\"blank\" ></th>        <th class=\"blank\" ></th>    </tr></thead><tbody>\n",
       "                <tr>\n",
       "                        <th id=\"T_e4a73_level0_row0\" class=\"row_heading level0 row0\" >Male</th>\n",
       "                        <td id=\"T_e4a73_row0_col0\" class=\"data row0 col0\" >652</td>\n",
       "                        <td id=\"T_e4a73_row0_col1\" class=\"data row0 col1\" >$3.02</td>\n",
       "                        <td id=\"T_e4a73_row0_col2\" class=\"data row0 col2\" >$1,967.64</td>\n",
       "                        <td id=\"T_e4a73_row0_col3\" class=\"data row0 col3\" >$4.07</td>\n",
       "            </tr>\n",
       "            <tr>\n",
       "                        <th id=\"T_e4a73_level0_row1\" class=\"row_heading level0 row1\" >Female</th>\n",
       "                        <td id=\"T_e4a73_row1_col0\" class=\"data row1 col0\" >113</td>\n",
       "                        <td id=\"T_e4a73_row1_col1\" class=\"data row1 col1\" >$3.20</td>\n",
       "                        <td id=\"T_e4a73_row1_col2\" class=\"data row1 col2\" >$361.94</td>\n",
       "                        <td id=\"T_e4a73_row1_col3\" class=\"data row1 col3\" >$4.47</td>\n",
       "            </tr>\n",
       "            <tr>\n",
       "                        <th id=\"T_e4a73_level0_row2\" class=\"row_heading level0 row2\" >Other/Non-Disclosed</th>\n",
       "                        <td id=\"T_e4a73_row2_col0\" class=\"data row2 col0\" >15</td>\n",
       "                        <td id=\"T_e4a73_row2_col1\" class=\"data row2 col1\" >$3.35</td>\n",
       "                        <td id=\"T_e4a73_row2_col2\" class=\"data row2 col2\" >$50.19</td>\n",
       "                        <td id=\"T_e4a73_row2_col3\" class=\"data row2 col3\" >$4.56</td>\n",
       "            </tr>\n",
       "    </tbody></table>"
      ],
      "text/plain": [
       "<pandas.io.formats.style.Styler at 0x7f9e046a0ac0>"
      ]
     },
     "execution_count": 398,
     "metadata": {},
     "output_type": "execute_result"
    }
   ],
   "source": [
    "ind = ['Male','Female','Other/Non-Disclosed']\n",
    "male_filter = reader.loc[reader['Gender'] == 'Male']\n",
    "female_filter = reader.loc[reader['Gender'] == 'Female']\n",
    "other_filter = reader.loc[reader['Gender'] == 'Other / Non-Disclosed']\n",
    "\n",
    "\n",
    "purch_count = [\n",
    "    male_filter['Purchase ID'].size, \n",
    "    female_filter['Purchase ID'].size,\n",
    "    other_filter['Purchase ID'].size\n",
    "]\n",
    "\n",
    "avg_price = [\n",
    "    '${:0,.2f}'.format(male_filter['Price'].mean()),\n",
    "    '${:0,.2f}'.format(female_filter['Price'].mean()),\n",
    "    '${:0,.2f}'.format(other_filter['Price'].mean())\n",
    "]\n",
    "\n",
    "total_purch = [\n",
    "    '${:0,.2f}'.format(male_filter['Price'].sum()),\n",
    "    '${:0,.2f}'.format(female_filter['Price'].sum()),\n",
    "    '${:0,.2f}'.format(other_filter['Price'].sum())\n",
    "]\n",
    "\n",
    "\n",
    "male_dict = {}\n",
    "male_dropped = male_filter.drop_duplicates(subset=['SN'])\n",
    "for sn in male_dropped['SN']:\n",
    "    malesn_filter = male_filter.loc[reader['SN'] == sn]\n",
    "    male_dict[sn] = malesn_filter['Price'].sum()\n",
    "\n",
    "male_total_mu = '${:0,.2f}'.format(sum(male_dict.values())/len(male_dict))\n",
    "\n",
    "female_dict = {}\n",
    "female_dropped = female_filter.drop_duplicates(subset=['SN'])\n",
    "for sn in female_dropped['SN']:\n",
    "    femalesn_filter = female_filter.loc[reader['SN'] == sn]\n",
    "    female_dict[sn] = femalesn_filter['Price'].sum()\n",
    "\n",
    "female_total_mu = '${:0,.2f}'.format(sum(female_dict.values())/len(female_dict))\n",
    "\n",
    "other_dict = {}\n",
    "other_dropped = other_filter.drop_duplicates(subset=['SN'])\n",
    "for sn in other_dropped['SN']:\n",
    "    othersn_filter = other_filter.loc[reader['SN'] == sn]\n",
    "    other_dict[sn] = othersn_filter['Price'].sum()\n",
    "\n",
    "other_total_mu = '${:0,.2f}'.format(sum(other_dict.values())/len(other_dict))\n",
    "\n",
    "avg_totals = [male_total_mu,female_total_mu,other_total_mu]\n",
    "\n",
    "df = {'Purchase Count': pd.Series(purch_count, index = ind),\n",
    "      'Average Purchase Price': pd.Series(avg_price, index = ind),\n",
    "      'Total Purchase Value': pd.Series(total_purch, index = ind),\n",
    "      'Average Total Purchase per Person': pd.Series(avg_totals, index = ind)\n",
    "}\n",
    "price_bygender = pd.DataFrame(df)\n",
    "price_bygender.index.name = \"Gender\"\n",
    "price_bygender.style\n"
   ]
  },
  {
   "cell_type": "code",
   "execution_count": 399,
   "metadata": {},
   "outputs": [
    {
     "data": {
      "text/html": [
       "<style  type=\"text/css\" >\n",
       "</style><table id=\"T_1850d_\" ><thead>    <tr>        <th class=\"blank level0\" ></th>        <th class=\"col_heading level0 col0\" >Total Count</th>        <th class=\"col_heading level0 col1\" >Percentage of Players</th>    </tr>    <tr>        <th class=\"index_name level0\" >Age Ranges</th>        <th class=\"blank\" ></th>        <th class=\"blank\" ></th>    </tr></thead><tbody>\n",
       "                <tr>\n",
       "                        <th id=\"T_1850d_level0_row0\" class=\"row_heading level0 row0\" ><10</th>\n",
       "                        <td id=\"T_1850d_row0_col0\" class=\"data row0 col0\" >17</td>\n",
       "                        <td id=\"T_1850d_row0_col1\" class=\"data row0 col1\" >2.95%</td>\n",
       "            </tr>\n",
       "            <tr>\n",
       "                        <th id=\"T_1850d_level0_row1\" class=\"row_heading level0 row1\" >10-14</th>\n",
       "                        <td id=\"T_1850d_row1_col0\" class=\"data row1 col0\" >22</td>\n",
       "                        <td id=\"T_1850d_row1_col1\" class=\"data row1 col1\" >3.82%</td>\n",
       "            </tr>\n",
       "            <tr>\n",
       "                        <th id=\"T_1850d_level0_row2\" class=\"row_heading level0 row2\" >15-19</th>\n",
       "                        <td id=\"T_1850d_row2_col0\" class=\"data row2 col0\" >107</td>\n",
       "                        <td id=\"T_1850d_row2_col1\" class=\"data row2 col1\" >18.58%</td>\n",
       "            </tr>\n",
       "            <tr>\n",
       "                        <th id=\"T_1850d_level0_row3\" class=\"row_heading level0 row3\" >20-24</th>\n",
       "                        <td id=\"T_1850d_row3_col0\" class=\"data row3 col0\" >258</td>\n",
       "                        <td id=\"T_1850d_row3_col1\" class=\"data row3 col1\" >44.79%</td>\n",
       "            </tr>\n",
       "            <tr>\n",
       "                        <th id=\"T_1850d_level0_row4\" class=\"row_heading level0 row4\" >25-29</th>\n",
       "                        <td id=\"T_1850d_row4_col0\" class=\"data row4 col0\" >77</td>\n",
       "                        <td id=\"T_1850d_row4_col1\" class=\"data row4 col1\" >13.37%</td>\n",
       "            </tr>\n",
       "            <tr>\n",
       "                        <th id=\"T_1850d_level0_row5\" class=\"row_heading level0 row5\" >30-34</th>\n",
       "                        <td id=\"T_1850d_row5_col0\" class=\"data row5 col0\" >52</td>\n",
       "                        <td id=\"T_1850d_row5_col1\" class=\"data row5 col1\" >9.03%</td>\n",
       "            </tr>\n",
       "            <tr>\n",
       "                        <th id=\"T_1850d_level0_row6\" class=\"row_heading level0 row6\" >35-39</th>\n",
       "                        <td id=\"T_1850d_row6_col0\" class=\"data row6 col0\" >31</td>\n",
       "                        <td id=\"T_1850d_row6_col1\" class=\"data row6 col1\" >5.38%</td>\n",
       "            </tr>\n",
       "            <tr>\n",
       "                        <th id=\"T_1850d_level0_row7\" class=\"row_heading level0 row7\" >40+</th>\n",
       "                        <td id=\"T_1850d_row7_col0\" class=\"data row7 col0\" >12</td>\n",
       "                        <td id=\"T_1850d_row7_col1\" class=\"data row7 col1\" >2.08%</td>\n",
       "            </tr>\n",
       "    </tbody></table>"
      ],
      "text/plain": [
       "<pandas.io.formats.style.Styler at 0x7f9e0405c2e0>"
      ]
     },
     "execution_count": 399,
     "metadata": {},
     "output_type": "execute_result"
    }
   ],
   "source": [
    "age_bins = [10,15,20,25,30,35,40]\n",
    "ind = ['<10','10-14','15-19','20-24','25-29','30-34','35-39','40+']\n",
    "age_counts = {}\n",
    "age_counts[ind[0]] = duplicates_dropped.loc[duplicates_dropped['Age'] < age_bins[0]]\n",
    "for i in range(1,7):\n",
    "    age_counts[ind[i]] = duplicates_dropped.loc[(duplicates_dropped['Age'] >= age_bins[i-1]) & (duplicates_dropped['Age'] < age_bins[i])]\n",
    "age_counts[ind[7]] = duplicates_dropped.loc[duplicates_dropped['Age'] >= age_bins[6]]\n",
    "\n",
    "ages = {}\n",
    "for i in ind:\n",
    "    ages[i] = age_counts[i]['Age'].size\n",
    "\n",
    "percs = {}\n",
    "for i in ind:\n",
    "    percs[i] = \"{:.2%}\".format(ages[i] / sum(ages.values()))\n",
    "\n",
    "df = {'Total Count': pd.Series(ages.values(),index=ages.keys()), 'Percentage of Players':pd.Series(percs.values(),index=percs.keys())}\n",
    "age_summary = pd.DataFrame(df)\n",
    "age_summary.index.name= 'Age Ranges'\n",
    "age_summary.style\n",
    "    "
   ]
  },
  {
   "cell_type": "code",
   "execution_count": 400,
   "metadata": {},
   "outputs": [
    {
     "data": {
      "text/html": [
       "<style  type=\"text/css\" >\n",
       "</style><table id=\"T_fe44c_\" ><thead>    <tr>        <th class=\"blank level0\" ></th>        <th class=\"col_heading level0 col0\" >Purchase Count</th>        <th class=\"col_heading level0 col1\" >Average Purchase Price</th>        <th class=\"col_heading level0 col2\" >Total Purchase Value</th>        <th class=\"col_heading level0 col3\" >Avg Total Purchase per Person</th>    </tr>    <tr>        <th class=\"index_name level0\" >Age Ranges</th>        <th class=\"blank\" ></th>        <th class=\"blank\" ></th>        <th class=\"blank\" ></th>        <th class=\"blank\" ></th>    </tr></thead><tbody>\n",
       "                <tr>\n",
       "                        <th id=\"T_fe44c_level0_row0\" class=\"row_heading level0 row0\" ><10</th>\n",
       "                        <td id=\"T_fe44c_row0_col0\" class=\"data row0 col0\" >23</td>\n",
       "                        <td id=\"T_fe44c_row0_col1\" class=\"data row0 col1\" >$3.35</td>\n",
       "                        <td id=\"T_fe44c_row0_col2\" class=\"data row0 col2\" >$77.13</td>\n",
       "                        <td id=\"T_fe44c_row0_col3\" class=\"data row0 col3\" >$4.54</td>\n",
       "            </tr>\n",
       "            <tr>\n",
       "                        <th id=\"T_fe44c_level0_row1\" class=\"row_heading level0 row1\" >10-14</th>\n",
       "                        <td id=\"T_fe44c_row1_col0\" class=\"data row1 col0\" >28</td>\n",
       "                        <td id=\"T_fe44c_row1_col1\" class=\"data row1 col1\" >$2.96</td>\n",
       "                        <td id=\"T_fe44c_row1_col2\" class=\"data row1 col2\" >$82.78</td>\n",
       "                        <td id=\"T_fe44c_row1_col3\" class=\"data row1 col3\" >$3.76</td>\n",
       "            </tr>\n",
       "            <tr>\n",
       "                        <th id=\"T_fe44c_level0_row2\" class=\"row_heading level0 row2\" >15-19</th>\n",
       "                        <td id=\"T_fe44c_row2_col0\" class=\"data row2 col0\" >136</td>\n",
       "                        <td id=\"T_fe44c_row2_col1\" class=\"data row2 col1\" >$3.04</td>\n",
       "                        <td id=\"T_fe44c_row2_col2\" class=\"data row2 col2\" >$412.89</td>\n",
       "                        <td id=\"T_fe44c_row2_col3\" class=\"data row2 col3\" >$3.86</td>\n",
       "            </tr>\n",
       "            <tr>\n",
       "                        <th id=\"T_fe44c_level0_row3\" class=\"row_heading level0 row3\" >20-24</th>\n",
       "                        <td id=\"T_fe44c_row3_col0\" class=\"data row3 col0\" >365</td>\n",
       "                        <td id=\"T_fe44c_row3_col1\" class=\"data row3 col1\" >$3.05</td>\n",
       "                        <td id=\"T_fe44c_row3_col2\" class=\"data row3 col2\" >$1,114.06</td>\n",
       "                        <td id=\"T_fe44c_row3_col3\" class=\"data row3 col3\" >$4.32</td>\n",
       "            </tr>\n",
       "            <tr>\n",
       "                        <th id=\"T_fe44c_level0_row4\" class=\"row_heading level0 row4\" >25-29</th>\n",
       "                        <td id=\"T_fe44c_row4_col0\" class=\"data row4 col0\" >101</td>\n",
       "                        <td id=\"T_fe44c_row4_col1\" class=\"data row4 col1\" >$2.90</td>\n",
       "                        <td id=\"T_fe44c_row4_col2\" class=\"data row4 col2\" >$293.00</td>\n",
       "                        <td id=\"T_fe44c_row4_col3\" class=\"data row4 col3\" >$3.81</td>\n",
       "            </tr>\n",
       "            <tr>\n",
       "                        <th id=\"T_fe44c_level0_row5\" class=\"row_heading level0 row5\" >30-34</th>\n",
       "                        <td id=\"T_fe44c_row5_col0\" class=\"data row5 col0\" >73</td>\n",
       "                        <td id=\"T_fe44c_row5_col1\" class=\"data row5 col1\" >$2.93</td>\n",
       "                        <td id=\"T_fe44c_row5_col2\" class=\"data row5 col2\" >$214.00</td>\n",
       "                        <td id=\"T_fe44c_row5_col3\" class=\"data row5 col3\" >$4.12</td>\n",
       "            </tr>\n",
       "            <tr>\n",
       "                        <th id=\"T_fe44c_level0_row6\" class=\"row_heading level0 row6\" >35-39</th>\n",
       "                        <td id=\"T_fe44c_row6_col0\" class=\"data row6 col0\" >41</td>\n",
       "                        <td id=\"T_fe44c_row6_col1\" class=\"data row6 col1\" >$3.60</td>\n",
       "                        <td id=\"T_fe44c_row6_col2\" class=\"data row6 col2\" >$147.67</td>\n",
       "                        <td id=\"T_fe44c_row6_col3\" class=\"data row6 col3\" >$4.76</td>\n",
       "            </tr>\n",
       "            <tr>\n",
       "                        <th id=\"T_fe44c_level0_row7\" class=\"row_heading level0 row7\" >40+</th>\n",
       "                        <td id=\"T_fe44c_row7_col0\" class=\"data row7 col0\" >13</td>\n",
       "                        <td id=\"T_fe44c_row7_col1\" class=\"data row7 col1\" >$2.94</td>\n",
       "                        <td id=\"T_fe44c_row7_col2\" class=\"data row7 col2\" >$38.24</td>\n",
       "                        <td id=\"T_fe44c_row7_col3\" class=\"data row7 col3\" >$3.19</td>\n",
       "            </tr>\n",
       "    </tbody></table>"
      ],
      "text/plain": [
       "<pandas.io.formats.style.Styler at 0x7f9e040826a0>"
      ]
     },
     "execution_count": 400,
     "metadata": {},
     "output_type": "execute_result"
    }
   ],
   "source": [
    "ages_wdups = {}\n",
    "ages_wdups[ind[0]] = reader.loc[reader['Age'] < age_bins[0]]\n",
    "for i in range(1,7):\n",
    "    ages_wdups[ind[i]] = reader.loc[(reader['Age'] >= age_bins[i-1]) & (reader['Age'] < age_bins[i])]\n",
    "ages_wdups[ind[7]] = reader.loc[reader['Age'] >= age_bins[6]]\n",
    "\n",
    "purch_count = []\n",
    "for i in ind:\n",
    "    purch_count.append(ages_wdups[i]['Purchase ID'].size)\n",
    "\n",
    "avg_price = []\n",
    "for i in ind:\n",
    "    avg_price.append('${:0,.2f}'.format(ages_wdups[i]['Price'].mean()))\n",
    "    \n",
    "tot_purch = []\n",
    "for i in ind:\n",
    "    tot_purch.append('${:0,.2f}'.format(ages_wdups[i]['Price'].sum()))\n",
    "\n",
    "age_dict = []\n",
    "for i in ind:\n",
    "    sn_dict = {}\n",
    "    for sn in ages_wdups[i]['SN']:\n",
    "        agesn_filter = ages_wdups[i].loc[ages_wdups[i]['SN'] == sn]\n",
    "        sn_dict[sn] = agesn_filter['Price'].sum()\n",
    "    age_dict.append(sn_dict)\n",
    "\n",
    "avg_tot = []\n",
    "for i in range(len(age_dict)):\n",
    "    avg_tot.append('${:0,.2f}'.format(sum(age_dict[i].values()) / len(age_dict[i])))\n",
    "\n",
    "df = pd.DataFrame({'Purchase Count':purch_count,'Average Purchase Price': avg_price,'Total Purchase Value': tot_purch,'Avg Total Purchase per Person': avg_tot},index=ind)\n",
    "df.index.name = 'Age Ranges'\n",
    "df.style"
   ]
  },
  {
   "cell_type": "code",
   "execution_count": 401,
   "metadata": {},
   "outputs": [
    {
     "data": {
      "text/html": [
       "<style  type=\"text/css\" >\n",
       "</style><table id=\"T_89704_\" ><thead>    <tr>        <th class=\"blank level0\" ></th>        <th class=\"col_heading level0 col0\" >Purchase Count</th>        <th class=\"col_heading level0 col1\" >Average Purchase Price</th>        <th class=\"col_heading level0 col2\" >Total Purchase Value</th>    </tr>    <tr>        <th class=\"index_name level0\" >SN</th>        <th class=\"blank\" ></th>        <th class=\"blank\" ></th>        <th class=\"blank\" ></th>    </tr></thead><tbody>\n",
       "                <tr>\n",
       "                        <th id=\"T_89704_level0_row0\" class=\"row_heading level0 row0\" >Lisosia93</th>\n",
       "                        <td id=\"T_89704_row0_col0\" class=\"data row0 col0\" >5</td>\n",
       "                        <td id=\"T_89704_row0_col1\" class=\"data row0 col1\" >$3.79</td>\n",
       "                        <td id=\"T_89704_row0_col2\" class=\"data row0 col2\" >$18.96</td>\n",
       "            </tr>\n",
       "            <tr>\n",
       "                        <th id=\"T_89704_level0_row1\" class=\"row_heading level0 row1\" >Idastidru52</th>\n",
       "                        <td id=\"T_89704_row1_col0\" class=\"data row1 col0\" >4</td>\n",
       "                        <td id=\"T_89704_row1_col1\" class=\"data row1 col1\" >$3.86</td>\n",
       "                        <td id=\"T_89704_row1_col2\" class=\"data row1 col2\" >$15.45</td>\n",
       "            </tr>\n",
       "            <tr>\n",
       "                        <th id=\"T_89704_level0_row2\" class=\"row_heading level0 row2\" >Chamjask73</th>\n",
       "                        <td id=\"T_89704_row2_col0\" class=\"data row2 col0\" >3</td>\n",
       "                        <td id=\"T_89704_row2_col1\" class=\"data row2 col1\" >$4.61</td>\n",
       "                        <td id=\"T_89704_row2_col2\" class=\"data row2 col2\" >$13.83</td>\n",
       "            </tr>\n",
       "            <tr>\n",
       "                        <th id=\"T_89704_level0_row3\" class=\"row_heading level0 row3\" >Iral74</th>\n",
       "                        <td id=\"T_89704_row3_col0\" class=\"data row3 col0\" >4</td>\n",
       "                        <td id=\"T_89704_row3_col1\" class=\"data row3 col1\" >$3.40</td>\n",
       "                        <td id=\"T_89704_row3_col2\" class=\"data row3 col2\" >$13.62</td>\n",
       "            </tr>\n",
       "            <tr>\n",
       "                        <th id=\"T_89704_level0_row4\" class=\"row_heading level0 row4\" >Iskadarya95</th>\n",
       "                        <td id=\"T_89704_row4_col0\" class=\"data row4 col0\" >3</td>\n",
       "                        <td id=\"T_89704_row4_col1\" class=\"data row4 col1\" >$4.37</td>\n",
       "                        <td id=\"T_89704_row4_col2\" class=\"data row4 col2\" >$13.10</td>\n",
       "            </tr>\n",
       "    </tbody></table>"
      ],
      "text/plain": [
       "<pandas.io.formats.style.Styler at 0x7f9e04efe280>"
      ]
     },
     "execution_count": 401,
     "metadata": {},
     "output_type": "execute_result"
    }
   ],
   "source": [
    "sn_count = reader['SN'].value_counts()\n",
    "sns = sn_count.index.tolist()\n",
    "\n",
    "purchs = {sns[i]: (sn_count[i],'${:0,.2f}'.format(reader.loc[reader['SN'] == sns[i]]['Price'].sum() / sn_count[i])) for i in range(len(sns))}\n",
    "\n",
    "top_purchs = {sn: purchs[sn][1] for sn in sns}\n",
    "\n",
    "tot_purchs = [(sn, reader['Price'].loc[reader['SN'] == sn].sum()) for sn in top_purchs.keys()]\n",
    "tot_purchs.sort(key = lambda x: x[1],reverse=True)\n",
    "tot_purchs = {tot_purchs[i][0]: '${:0,.2f}'.format(tot_purchs[i][1]) for i in range(len(tot_purchs))}\n",
    "\n",
    "purchs_count = {sn: reader['SN'].loc[reader['SN'] == sn].value_counts()[0] for sn in top_purchs.keys()}\n",
    "\n",
    "df = pd.DataFrame([purchs_count, top_purchs, tot_purchs],index = ['Purchase Count','Average Purchase Price','Total Purchase Value']).T\n",
    "ind_order = list(tot_purchs.keys())\n",
    "df2 = df.reindex(ind_order)\n",
    "df2.index.name = 'SN'\n",
    "df2.head().style\n"
   ]
  },
  {
   "cell_type": "code",
   "execution_count": 402,
   "metadata": {},
   "outputs": [
    {
     "data": {
      "text/html": [
       "<style  type=\"text/css\" >\n",
       "</style><table id=\"T_b431e_\" ><thead>    <tr>        <th class=\"blank\" ></th>        <th class=\"blank level0\" ></th>        <th class=\"col_heading level0 col0\" >Purchase Count</th>        <th class=\"col_heading level0 col1\" >Item Price</th>        <th class=\"col_heading level0 col2\" >Total Purchase Value</th>    </tr>    <tr>        <th class=\"index_name level0\" >Item ID</th>        <th class=\"index_name level1\" >Item Name</th>        <th class=\"blank\" ></th>        <th class=\"blank\" ></th>        <th class=\"blank\" ></th>    </tr></thead><tbody>\n",
       "                <tr>\n",
       "                        <th id=\"T_b431e_level0_row0\" class=\"row_heading level0 row0\" >92</th>\n",
       "                        <th id=\"T_b431e_level1_row0\" class=\"row_heading level1 row0\" >Final Critic</th>\n",
       "                        <td id=\"T_b431e_row0_col0\" class=\"data row0 col0\" >13</td>\n",
       "                        <td id=\"T_b431e_row0_col1\" class=\"data row0 col1\" >$4.61</td>\n",
       "                        <td id=\"T_b431e_row0_col2\" class=\"data row0 col2\" >$59.99</td>\n",
       "            </tr>\n",
       "            <tr>\n",
       "                        <th id=\"T_b431e_level0_row1\" class=\"row_heading level0 row1\" >178</th>\n",
       "                        <th id=\"T_b431e_level1_row1\" class=\"row_heading level1 row1\" >Oathbreaker, Last Hope of the Breaking Storm</th>\n",
       "                        <td id=\"T_b431e_row1_col0\" class=\"data row1 col0\" >12</td>\n",
       "                        <td id=\"T_b431e_row1_col1\" class=\"data row1 col1\" >$4.23</td>\n",
       "                        <td id=\"T_b431e_row1_col2\" class=\"data row1 col2\" >$50.76</td>\n",
       "            </tr>\n",
       "            <tr>\n",
       "                        <th id=\"T_b431e_level0_row2\" class=\"row_heading level0 row2\" >145</th>\n",
       "                        <th id=\"T_b431e_level1_row2\" class=\"row_heading level1 row2\" >Fiery Glass Crusader</th>\n",
       "                        <td id=\"T_b431e_row2_col0\" class=\"data row2 col0\" >9</td>\n",
       "                        <td id=\"T_b431e_row2_col1\" class=\"data row2 col1\" >$4.58</td>\n",
       "                        <td id=\"T_b431e_row2_col2\" class=\"data row2 col2\" >$41.22</td>\n",
       "            </tr>\n",
       "            <tr>\n",
       "                        <th id=\"T_b431e_level0_row3\" class=\"row_heading level0 row3\" >132</th>\n",
       "                        <th id=\"T_b431e_level1_row3\" class=\"row_heading level1 row3\" >Persuasion</th>\n",
       "                        <td id=\"T_b431e_row3_col0\" class=\"data row3 col0\" >9</td>\n",
       "                        <td id=\"T_b431e_row3_col1\" class=\"data row3 col1\" >$3.22</td>\n",
       "                        <td id=\"T_b431e_row3_col2\" class=\"data row3 col2\" >$28.99</td>\n",
       "            </tr>\n",
       "            <tr>\n",
       "                        <th id=\"T_b431e_level0_row4\" class=\"row_heading level0 row4\" >108</th>\n",
       "                        <th id=\"T_b431e_level1_row4\" class=\"row_heading level1 row4\" >Extraction, Quickblade Of Trembling Hands</th>\n",
       "                        <td id=\"T_b431e_row4_col0\" class=\"data row4 col0\" >9</td>\n",
       "                        <td id=\"T_b431e_row4_col1\" class=\"data row4 col1\" >$3.53</td>\n",
       "                        <td id=\"T_b431e_row4_col2\" class=\"data row4 col2\" >$31.77</td>\n",
       "            </tr>\n",
       "    </tbody></table>"
      ],
      "text/plain": [
       "<pandas.io.formats.style.Styler at 0x7f9e04538250>"
      ]
     },
     "execution_count": 402,
     "metadata": {},
     "output_type": "execute_result"
    }
   ],
   "source": [
    "id_name_price = reader[['Item ID','Item Name','Price']]\n",
    "inp = id_name_price\n",
    "indiv_list = reader[['Item ID','Item Name']].value_counts().index.tolist()\n",
    "\n",
    "purch_count = [inp['Item Name'].loc[inp['Item Name']==indiv_list[i][1]].count() for i in range(len(indiv_list))]\n",
    "price = ['${:0,.2f}'.format(inp['Price'].loc[inp['Item Name']==indiv_list[i][1]].sum()/purch_count[i]) for i in range(len(indiv_list))]\n",
    "tot_purch = ['${:0,.2f}'.format(inp['Price'].loc[inp['Item Name']==indiv_list[i][1]].sum()) for i in range(len(indiv_list))]\n",
    "ids = [inp['Item ID'].drop_duplicates().loc[inp['Item Name']==indiv_list[i][1]].item() for i in range(len(indiv_list))]\n",
    "\n",
    "id_name = pd.MultiIndex.from_tuples([(ids[i],indiv_list[i][1]) for i in range(len(indiv_list))])\n",
    "\n",
    "sum_dict= {(ids[i],indiv_list[i][1]): [purch_count[i],price[i],tot_purch[i]] for i in range(len(indiv_list))}\n",
    "df = pd.DataFrame(sum_dict,index = ['Purchase Count','Item Price','Total Purchase Value']).T\n",
    "df.index.names = ('Item ID','Item Name')\n",
    "\n",
    "df.head().style\n"
   ]
  },
  {
   "cell_type": "code",
   "execution_count": 403,
   "metadata": {},
   "outputs": [
    {
     "data": {
      "text/html": [
       "<style  type=\"text/css\" >\n",
       "</style><table id=\"T_e3d56_\" ><thead>    <tr>        <th class=\"blank\" ></th>        <th class=\"blank level0\" ></th>        <th class=\"col_heading level0 col0\" >Purchase Count</th>        <th class=\"col_heading level0 col1\" >Item Price</th>        <th class=\"col_heading level0 col2\" >Total Purchase Value</th>    </tr>    <tr>        <th class=\"index_name level0\" >Item ID</th>        <th class=\"index_name level1\" >Item Name</th>        <th class=\"blank\" ></th>        <th class=\"blank\" ></th>        <th class=\"blank\" ></th>    </tr></thead><tbody>\n",
       "                <tr>\n",
       "                        <th id=\"T_e3d56_level0_row0\" class=\"row_heading level0 row0\" >92</th>\n",
       "                        <th id=\"T_e3d56_level1_row0\" class=\"row_heading level1 row0\" >Final Critic</th>\n",
       "                        <td id=\"T_e3d56_row0_col0\" class=\"data row0 col0\" >13</td>\n",
       "                        <td id=\"T_e3d56_row0_col1\" class=\"data row0 col1\" >$4.61</td>\n",
       "                        <td id=\"T_e3d56_row0_col2\" class=\"data row0 col2\" >$59.99</td>\n",
       "            </tr>\n",
       "            <tr>\n",
       "                        <th id=\"T_e3d56_level0_row1\" class=\"row_heading level0 row1\" >178</th>\n",
       "                        <th id=\"T_e3d56_level1_row1\" class=\"row_heading level1 row1\" >Oathbreaker, Last Hope of the Breaking Storm</th>\n",
       "                        <td id=\"T_e3d56_row1_col0\" class=\"data row1 col0\" >12</td>\n",
       "                        <td id=\"T_e3d56_row1_col1\" class=\"data row1 col1\" >$4.23</td>\n",
       "                        <td id=\"T_e3d56_row1_col2\" class=\"data row1 col2\" >$50.76</td>\n",
       "            </tr>\n",
       "            <tr>\n",
       "                        <th id=\"T_e3d56_level0_row2\" class=\"row_heading level0 row2\" >82</th>\n",
       "                        <th id=\"T_e3d56_level1_row2\" class=\"row_heading level1 row2\" >Nirvana</th>\n",
       "                        <td id=\"T_e3d56_row2_col0\" class=\"data row2 col0\" >9</td>\n",
       "                        <td id=\"T_e3d56_row2_col1\" class=\"data row2 col1\" >$4.90</td>\n",
       "                        <td id=\"T_e3d56_row2_col2\" class=\"data row2 col2\" >$44.10</td>\n",
       "            </tr>\n",
       "            <tr>\n",
       "                        <th id=\"T_e3d56_level0_row3\" class=\"row_heading level0 row3\" >145</th>\n",
       "                        <th id=\"T_e3d56_level1_row3\" class=\"row_heading level1 row3\" >Fiery Glass Crusader</th>\n",
       "                        <td id=\"T_e3d56_row3_col0\" class=\"data row3 col0\" >9</td>\n",
       "                        <td id=\"T_e3d56_row3_col1\" class=\"data row3 col1\" >$4.58</td>\n",
       "                        <td id=\"T_e3d56_row3_col2\" class=\"data row3 col2\" >$41.22</td>\n",
       "            </tr>\n",
       "            <tr>\n",
       "                        <th id=\"T_e3d56_level0_row4\" class=\"row_heading level0 row4\" >103</th>\n",
       "                        <th id=\"T_e3d56_level1_row4\" class=\"row_heading level1 row4\" >Singed Scalpel</th>\n",
       "                        <td id=\"T_e3d56_row4_col0\" class=\"data row4 col0\" >8</td>\n",
       "                        <td id=\"T_e3d56_row4_col1\" class=\"data row4 col1\" >$4.35</td>\n",
       "                        <td id=\"T_e3d56_row4_col2\" class=\"data row4 col2\" >$34.80</td>\n",
       "            </tr>\n",
       "    </tbody></table>"
      ],
      "text/plain": [
       "<pandas.io.formats.style.Styler at 0x7f9e045384c0>"
      ]
     },
     "execution_count": 403,
     "metadata": {},
     "output_type": "execute_result"
    }
   ],
   "source": [
    "df['Total Purchase Value'] = df['Total Purchase Value'].str.strip('$')\n",
    "df['Total Purchase Value'] = df['Total Purchase Value'].astype(float)\n",
    "df2 = df.sort_values(['Total Purchase Value'],ascending=False)\n",
    "df2['Total Purchase Value'] = df['Total Purchase Value'].map('${:,.2f}'.format)\n",
    "df2.head().style"
   ]
  },
  {
   "cell_type": "code",
   "execution_count": null,
   "metadata": {},
   "outputs": [],
   "source": []
  },
  {
   "cell_type": "code",
   "execution_count": null,
   "metadata": {},
   "outputs": [],
   "source": []
  },
  {
   "cell_type": "code",
   "execution_count": null,
   "metadata": {},
   "outputs": [],
   "source": []
  }
 ],
 "metadata": {
  "interpreter": {
   "hash": "3056ff0f1845929a8989f1bded2e103b0e50e44d85bf2567aa5138af1ce355cd"
  },
  "kernelspec": {
   "display_name": "Python 3",
   "language": "python",
   "name": "python3"
  },
  "language_info": {
   "codemirror_mode": {
    "name": "ipython",
    "version": 3
   },
   "file_extension": ".py",
   "mimetype": "text/x-python",
   "name": "python",
   "nbconvert_exporter": "python",
   "pygments_lexer": "ipython3",
   "version": "3.8.8"
  }
 },
 "nbformat": 4,
 "nbformat_minor": 2
}
